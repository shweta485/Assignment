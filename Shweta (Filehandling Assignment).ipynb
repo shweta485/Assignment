{
 "cells": [
  {
   "cell_type": "markdown",
   "id": "56a1440b",
   "metadata": {},
   "source": [
    "# 1) r = read mode"
   ]
  },
  {
   "cell_type": "code",
   "execution_count": null,
   "id": "4026e927",
   "metadata": {},
   "outputs": [],
   "source": [
    "#  a file named 'shw.txt', will be opened with the reading mode. "
   ]
  },
  {
   "cell_type": "code",
   "execution_count": 1,
   "id": "10caba62",
   "metadata": {
    "scrolled": true
   },
   "outputs": [
    {
     "name": "stdout",
     "output_type": "stream",
     "text": [
      "python is an interpreted, interactive, object-oriented programming language\n"
     ]
    }
   ],
   "source": [
    "f = open('shw.txt','r')\n",
    "print(f.read())"
   ]
  },
  {
   "cell_type": "code",
   "execution_count": 2,
   "id": "86d94394",
   "metadata": {},
   "outputs": [
    {
     "name": "stdout",
     "output_type": "stream",
     "text": [
      "python is an interpreted, interactive, object-oriented programming language\n"
     ]
    }
   ],
   "source": [
    "try:\n",
    "    def file_open(filename = str, mode =str):\n",
    "        try:\n",
    "            f = open(filename,mode)\n",
    "            print(f.read())\n",
    "        except Exception as e:\n",
    "            print(e)\n",
    "    file_open('shw.txt','r')\n",
    "except Exception as e:\n",
    "    print(e)"
   ]
  },
  {
   "cell_type": "markdown",
   "id": "15dc6359",
   "metadata": {},
   "source": [
    "# 2) w = write mode"
   ]
  },
  {
   "cell_type": "code",
   "execution_count": null,
   "id": "a924e121",
   "metadata": {},
   "outputs": [],
   "source": [
    "# will create a file if the specified file does not exist."
   ]
  },
  {
   "cell_type": "code",
   "execution_count": 3,
   "id": "5e9be4c9",
   "metadata": {},
   "outputs": [],
   "source": [
    "f1 = open('abcd.txt','w')"
   ]
  },
  {
   "cell_type": "code",
   "execution_count": 4,
   "id": "b454cb0f",
   "metadata": {},
   "outputs": [
    {
     "name": "stdout",
     "output_type": "stream",
     "text": [
      "python can be used on a serve to create web application\n"
     ]
    }
   ],
   "source": [
    "try:\n",
    "    def file_name(filename = str, mode = str):\n",
    "        try:\n",
    "            f1 = open(filename,mode)\n",
    "            f1.write(\"python can be used on a serve to create web application\")\n",
    "            f1.close()\n",
    "            f1 = open(filename,\"r\")\n",
    "            print(f1.read())\n",
    "        except Exception as e:\n",
    "            print(e)\n",
    "    file_name('abcd.txt','w')\n",
    "except Exception as e:\n",
    "    print(e)"
   ]
  },
  {
   "cell_type": "markdown",
   "id": "821543df",
   "metadata": {},
   "source": [
    "# 3) a = append mode"
   ]
  },
  {
   "cell_type": "code",
   "execution_count": null,
   "id": "6a36097d",
   "metadata": {},
   "outputs": [],
   "source": [
    "# This mode will create new file and new content can be add."
   ]
  },
  {
   "cell_type": "code",
   "execution_count": 5,
   "id": "2c272fed",
   "metadata": {},
   "outputs": [],
   "source": [
    "f1 = open('abcd.txt','a')"
   ]
  },
  {
   "cell_type": "code",
   "execution_count": 11,
   "id": "023ecf25",
   "metadata": {
    "scrolled": true
   },
   "outputs": [
    {
     "name": "stdout",
     "output_type": "stream",
     "text": [
      "python can be used on a serve to create web applicationpython can be used on a serve to create web application\n",
      "python can be used on a serve to create web application\n",
      "python can be used on a serve to create web application\n",
      "python can be used on a serve to create web application\n",
      "python can be used on a serve to create web application\n",
      "\n"
     ]
    }
   ],
   "source": [
    "try:\n",
    "    def file_name(filename = str, mode = str):\n",
    "        try:\n",
    "            f1 = open(filename,mode)\n",
    "            f1.write(\"python can be used on a serve to create web application\\n\")\n",
    "            f1.close()\n",
    "            f1 = open(filename,\"r\")\n",
    "            print(f1.read())\n",
    "        except Exception as e:\n",
    "            print(e)\n",
    "    file_name('abcd.txt','a')\n",
    "except Exception as e:\n",
    "    print(e)"
   ]
  },
  {
   "cell_type": "markdown",
   "id": "50ddb8b2",
   "metadata": {},
   "source": [
    "# 4) x = create mode"
   ]
  },
  {
   "cell_type": "code",
   "execution_count": null,
   "id": "3acc5a39",
   "metadata": {},
   "outputs": [],
   "source": [
    "# This mode create new file or if available then will get an error."
   ]
  },
  {
   "cell_type": "code",
   "execution_count": null,
   "id": "da41edc9",
   "metadata": {},
   "outputs": [],
   "source": [
    "s = open('ok.txt','x')"
   ]
  },
  {
   "cell_type": "code",
   "execution_count": 13,
   "id": "74df2765",
   "metadata": {},
   "outputs": [
    {
     "name": "stdout",
     "output_type": "stream",
     "text": [
      "[Errno 17] File exists: 'ok.txt'\n"
     ]
    }
   ],
   "source": [
    "try:\n",
    "    def file_name(filename = str, mode = str):\n",
    "        try:\n",
    "            f1 = open(filename,mode)\n",
    "            f1.write(\"java is a multi-platform,object-orinted,and network-centriclanguage\")\n",
    "            f1.close()\n",
    "            f1 = open(filename,\"r\")\n",
    "            print(f1.read())\n",
    "        except Exception as e:\n",
    "            print(e)\n",
    "    file_name('ok.txt','x')\n",
    "except Exception as e:\n",
    "    print(e)"
   ]
  },
  {
   "cell_type": "markdown",
   "id": "0f66786d",
   "metadata": {},
   "source": [
    "# 5) read()"
   ]
  },
  {
   "cell_type": "code",
   "execution_count": null,
   "id": "1d5bc2a6",
   "metadata": {},
   "outputs": [],
   "source": [
    "# The read() will read the whole file. "
   ]
  },
  {
   "cell_type": "code",
   "execution_count": 14,
   "id": "d79c101d",
   "metadata": {},
   "outputs": [
    {
     "name": "stdout",
     "output_type": "stream",
     "text": [
      "python can be used on a serve to create web applicationpython can be used on a serve to create web application\n",
      "python can be used on a serve to create web application\n",
      "python can be used on a serve to create web application\n",
      "python can be used on a serve to create web application\n",
      "python can be used on a serve to create web application\n",
      "\n"
     ]
    }
   ],
   "source": [
    "try:\n",
    "    def read_file(filename = str,mode = str):\n",
    "        try:\n",
    "            f1 = open(filename,mode)\n",
    "            print(f1.read())\n",
    "        except Exception as e:\n",
    "            print(e)\n",
    "    read_file('abcd.txt','r')\n",
    "except Exception as e:\n",
    "    print(e)"
   ]
  },
  {
   "cell_type": "markdown",
   "id": "2a0344bb",
   "metadata": {},
   "source": [
    "# 6) tell()"
   ]
  },
  {
   "cell_type": "code",
   "execution_count": null,
   "id": "90545047",
   "metadata": {},
   "outputs": [],
   "source": [
    "# The tell() method returns the current file position in a file."
   ]
  },
  {
   "cell_type": "code",
   "execution_count": 16,
   "id": "f936ad83",
   "metadata": {},
   "outputs": [
    {
     "name": "stdout",
     "output_type": "stream",
     "text": [
      "0\n"
     ]
    }
   ],
   "source": [
    " try:\n",
    "    def tell_file(filename = str,mode = str):\n",
    "        try:\n",
    "            f1 = open(filename,mode)\n",
    "            print(f1.tell())\n",
    "        except Exception as e:\n",
    "            print(e)\n",
    "    tell_file('abcd.txt','r')\n",
    "except Exception as e:\n",
    "    print(e)"
   ]
  },
  {
   "cell_type": "markdown",
   "id": "66568360",
   "metadata": {},
   "source": [
    "# 7) seek()"
   ]
  },
  {
   "cell_type": "code",
   "execution_count": null,
   "id": "c88f9114",
   "metadata": {},
   "outputs": [],
   "source": [
    "# You can change the current file position with the seek() method.\n"
   ]
  },
  {
   "cell_type": "code",
   "execution_count": 17,
   "id": "f92d6e50",
   "metadata": {},
   "outputs": [
    {
     "name": "stdout",
     "output_type": "stream",
     "text": [
      "12\n"
     ]
    }
   ],
   "source": [
    "try:\n",
    "    def seek_file(filename = str,mode = str):\n",
    "        try:\n",
    "            f1 = open(filename,mode)\n",
    "            print(f1.seek(12))\n",
    "        except Exception as e:\n",
    "            print(e)\n",
    "    seek_file('abcd.txt','r')\n",
    "except Exception as e:\n",
    "    print(e)"
   ]
  },
  {
   "cell_type": "markdown",
   "id": "5dd1a074",
   "metadata": {},
   "source": [
    "# 8) readlines()"
   ]
  },
  {
   "cell_type": "code",
   "execution_count": null,
   "id": "3f1edb25",
   "metadata": {},
   "outputs": [],
   "source": [
    "# Reads all the lines of the file "
   ]
  },
  {
   "cell_type": "code",
   "execution_count": 18,
   "id": "2e960b04",
   "metadata": {},
   "outputs": [
    {
     "name": "stdout",
     "output_type": "stream",
     "text": [
      "['python can be used on a serve to create web applicationpython can be used on a serve to create web application\\n', 'python can be used on a serve to create web application\\n', 'python can be used on a serve to create web application\\n', 'python can be used on a serve to create web application\\n', 'python can be used on a serve to create web application\\n']\n"
     ]
    }
   ],
   "source": [
    "try:\n",
    "    def readlines(filename = str,mode = str):\n",
    "        try:\n",
    "            f1 = open(filename,mode)\n",
    "            print(f1.readlines())\n",
    "        except Exception as e:\n",
    "            print(e)\n",
    "    readlines('abcd.txt','r')\n",
    "except Exception as e:\n",
    "    print(e)"
   ]
  },
  {
   "cell_type": "markdown",
   "id": "0520393f",
   "metadata": {},
   "source": [
    "# 9) readline()"
   ]
  },
  {
   "cell_type": "code",
   "execution_count": null,
   "id": "fdee1b18",
   "metadata": {},
   "outputs": [],
   "source": [
    "#  Reads a line of the file. "
   ]
  },
  {
   "cell_type": "code",
   "execution_count": 19,
   "id": "5fa29323",
   "metadata": {},
   "outputs": [
    {
     "name": "stdout",
     "output_type": "stream",
     "text": [
      "python can be used on a serve to create web applicationpython can be used on a serve to create web application\n",
      "\n"
     ]
    }
   ],
   "source": [
    "try:\n",
    "    def readline(filename = str,mode = str):\n",
    "        try:\n",
    "            f1 = open(filename,mode)\n",
    "            print(f1.readline())\n",
    "        except Exception as e:\n",
    "            print(e)\n",
    "    readline('abcd.txt','r')\n",
    "except Exception as e:\n",
    "    print(e)"
   ]
  },
  {
   "cell_type": "code",
   "execution_count": null,
   "id": "899869f8",
   "metadata": {},
   "outputs": [],
   "source": []
  },
  {
   "cell_type": "code",
   "execution_count": null,
   "id": "7a984f75",
   "metadata": {},
   "outputs": [],
   "source": []
  },
  {
   "cell_type": "code",
   "execution_count": null,
   "id": "6e0b124a",
   "metadata": {},
   "outputs": [],
   "source": []
  },
  {
   "cell_type": "code",
   "execution_count": null,
   "id": "18e601b4",
   "metadata": {},
   "outputs": [],
   "source": []
  }
 ],
 "metadata": {
  "kernelspec": {
   "display_name": "Python 3 (ipykernel)",
   "language": "python",
   "name": "python3"
  },
  "language_info": {
   "codemirror_mode": {
    "name": "ipython",
    "version": 3
   },
   "file_extension": ".py",
   "mimetype": "text/x-python",
   "name": "python",
   "nbconvert_exporter": "python",
   "pygments_lexer": "ipython3",
   "version": "3.9.12"
  }
 },
 "nbformat": 4,
 "nbformat_minor": 5
}
